{
  "nbformat": 4,
  "nbformat_minor": 0,
  "metadata": {
    "colab": {
      "provenance": [],
      "authorship_tag": "ABX9TyPLQdYWxQkdDwbXAKZaZuBG",
      "include_colab_link": true
    },
    "kernelspec": {
      "name": "python3",
      "display_name": "Python 3"
    },
    "language_info": {
      "name": "python"
    }
  },
  "cells": [
    {
      "cell_type": "markdown",
      "metadata": {
        "id": "view-in-github",
        "colab_type": "text"
      },
      "source": [
        "<a href=\"https://colab.research.google.com/github/aleshkovskijjaaa/--PY1/blob/main/Lab_1.ipynb\" target=\"_parent\"><img src=\"https://colab.research.google.com/assets/colab-badge.svg\" alt=\"Open In Colab\"/></a>"
      ]
    },
    {
      "cell_type": "markdown",
      "source": [
        "**Лабораторная работа**: 1\n",
        "\n",
        "**Автор**: Алешковский Александр Анатольевич\n",
        "\n",
        "**Группа**: 5140901/31502"
      ],
      "metadata": {
        "id": "pJ0IcRpcwhU9"
      }
    },
    {
      "cell_type": "markdown",
      "source": [
        "**Глава 1**: Расширенное введение в совместное и параллельное программирование"
      ],
      "metadata": {
        "id": "Z0LoY1T6x6B8"
      }
    },
    {
      "cell_type": "markdown",
      "source": [
        "Допустим, что у нас имеется некая простая функция, которая проверяет является ли некое неотрицательное число простым следующим образом:"
      ],
      "metadata": {
        "id": "fenRZQ490jvl"
      }
    },
    {
      "cell_type": "code",
      "source": [
        "from math import sqrt\n",
        "\n",
        "def is_prime(x):\n",
        "    if x < 2:\n",
        "      return False\n",
        "\n",
        "    if x == 2:\n",
        "      return True\n",
        "\n",
        "    if x % 2 == 0:\n",
        "      return False\n",
        "\n",
        "    limit = int(sqrt(x)) + 1\n",
        "    for i in range(3, limit, 2):\n",
        "      if x % i == 0:\n",
        "        return False\n",
        "\n",
        "    return True"
      ],
      "metadata": {
        "id": "WsCFvkRTxLrR"
      },
      "execution_count": null,
      "outputs": []
    },
    {
      "cell_type": "markdown",
      "source": [
        "Кроме того, допустим что у нас имеется некий перечень достаточно больших целых (10^13 до 10^13 + 500)\n",
        "\n",
        ", и мы желаем проверить являются ли каждое из них простым путём применения нашей предыдущей функции:"
      ],
      "metadata": {
        "id": "Ftkvnd9i0yr8"
      }
    },
    {
      "cell_type": "code",
      "source": [
        "input = [i for i in range(10 ** 13, 10 ** 13 + 500)]"
      ],
      "metadata": {
        "id": "WiCNagEw00e2"
      },
      "execution_count": null,
      "outputs": []
    },
    {
      "cell_type": "markdown",
      "source": [
        "Некий последовательный подход будет простой передачей одного числа за другим в нашу функцию is_prime() следующим образом:"
      ],
      "metadata": {
        "id": "Klr9mxlE1mhl"
      }
    },
    {
      "cell_type": "code",
      "source": [
        "from timeit import default_timer as timer\n",
        "\n",
        "# sequential\n",
        "start = timer()\n",
        "result = []\n",
        "for i in input:\n",
        "    if is_prime(i):\n",
        "        result.append(i)\n",
        "print('Result 1:', result)\n",
        "print('Took: %.2f seconds.' % (timer() - start))"
      ],
      "metadata": {
        "colab": {
          "base_uri": "https://localhost:8080/"
        },
        "id": "y5dfa1yC1JpF",
        "outputId": "e8e76282-cbd1-45fd-fba2-822d8825d347"
      },
      "execution_count": null,
      "outputs": [
        {
          "output_type": "stream",
          "name": "stdout",
          "text": [
            "Result 1: [10000000000037, 10000000000051, 10000000000099, 10000000000129, 10000000000183, 10000000000259, 10000000000267, 10000000000273, 10000000000279, 10000000000283, 10000000000313, 10000000000343, 10000000000391, 10000000000411, 10000000000433, 10000000000453]\n",
            "Took: 5.68 seconds.\n"
          ]
        }
      ]
    },
    {
      "cell_type": "markdown",
      "source": [
        "Эта программа потребовала почти 5 секунд на обработку всех чисел"
      ],
      "metadata": {
        "id": "7XWM6iDa17Gv"
      }
    },
    {
      "cell_type": "markdown",
      "source": [
        "Теперь  посмотрим, сможет ли на самом деле параллельность помочь нам улучшить нашу программу. Наша функция is_prime() содержит много тяжёлых вычислений и, таким образом, является хорошим претендентом на параллельное программирование."
      ],
      "metadata": {
        "id": "Vne0oxl92Z5E"
      }
    },
    {
      "cell_type": "code",
      "source": [
        "import concurrent.futures\n",
        "start = timer()\n",
        "result = []\n",
        "with concurrent.futures.ProcessPoolExecutor(max_workers=20) as executor:\n",
        "    futures = [executor.submit(is_prime, i) for i in input]\n",
        "\n",
        "    for i, future in enumerate(concurrent.futures.as_completed(futures)):\n",
        "        if future.result():\n",
        "            result.append(input[i])\n",
        "\n",
        "print('Result 2:', result)\n",
        "print('Took: %.2f seconds.' % (timer() - start))"
      ],
      "metadata": {
        "colab": {
          "base_uri": "https://localhost:8080/"
        },
        "id": "k9Ml28Ve2HZ-",
        "outputId": "11c0b81f-8d84-4e67-f74d-cd61bc35df9f"
      },
      "execution_count": null,
      "outputs": [
        {
          "output_type": "stream",
          "name": "stdout",
          "text": [
            "Result 2: [10000000000484, 10000000000485, 10000000000486, 10000000000487, 10000000000488, 10000000000489, 10000000000490, 10000000000491, 10000000000492, 10000000000493, 10000000000494, 10000000000495, 10000000000496, 10000000000497, 10000000000498, 10000000000499]\n",
            "Took: 4.63 seconds.\n"
          ]
        }
      ]
    },
    {
      "cell_type": "markdown",
      "source": [
        "Основное ключевое отличие между совместным и параллельным программированием состоит в том, что в параллельной программе существует некое число потоков обработки (в основном ЦПУ и ядер), работающих независимо по одному каждый, причём могут иметься различные потоки обработки (в основном потоки, threads), выполняющие доступ и использующие некий разделяемый ресурс в одно и то же время в программах совместной работы."
      ],
      "metadata": {
        "id": "_WiRgxxO5BLV"
      }
    },
    {
      "cell_type": "markdown",
      "source": [
        "Чтобы продемонстрировать само понятие запуска множества потоков в одном и том же процессе, давайте рассмотрим некий быстрый пример на Python."
      ],
      "metadata": {
        "id": "wQcVUCBVPulp"
      }
    },
    {
      "cell_type": "code",
      "source": [
        "import threading\n",
        "import time\n",
        "\n",
        "\n",
        "class MyThread(threading.Thread):\n",
        "    def __init__(self, name, delay):\n",
        "        threading.Thread.__init__(self)\n",
        "        self.name = name\n",
        "        self.delay = delay\n",
        "\n",
        "    def run(self):\n",
        "        print('Starting thread %s.' % self.name)\n",
        "        thread_count_down(self.name, self.delay)\n",
        "        print('Finished thread %s.' % self.name)\n",
        "\n",
        "def thread_count_down(name, delay):\n",
        "    counter = 5\n",
        "\n",
        "    while counter:\n",
        "        time.sleep(delay)\n",
        "        print('Thread %s counting down: %i...' % (name, counter))\n",
        "        counter -= 1"
      ],
      "metadata": {
        "id": "6I04uRUK5CHt"
      },
      "execution_count": null,
      "outputs": []
    },
    {
      "cell_type": "markdown",
      "source": [
        "В этом файле мы применяем соответствующий модуль threading мз Python в качестве необходимой основы для своего класса MyThread. Кадлый объект из этого класса имеет некое name и параметр delay. Имеющаяся функция run(), которая вызывается как только некий новый поток инициализирован и запущен, печатает какое- то стартовое сообщение и, в свою очередь, вызывает соответствующую функцию thread_count_down(). Данная функция ведёт обратный отсчёт с 5 до 0, а между итерациями засыпает на несколько секунд, которые определены определяемым параметром задержки.\n",
        "\n",
        "Основной момент в данном примере состоит в том чтобы показать имеющуюся природу совместной обработки через одновременный запуск более одного объектов из нашего класса MyThread. Мы знаем, что как только каждый поток запускается, также стартует и обратный отсчёт на основе времени. В традиционной последовательной программе отдельный обратный отсчёт будет исполняться обособленно, по- порядку (то есть, какой- то новый обратный отсчёт не начнётся, пока не завершится текущий). Как вы обнаружите, все отдельные обратные отсчёты для обособленных потоков исполняются совместно."
      ],
      "metadata": {
        "id": "2DMzqu_FQHjn"
      }
    },
    {
      "cell_type": "code",
      "source": [
        "thread1 = MyThread('A', 0.5)\n",
        "thread2 = MyThread('B', 0.5)\n",
        "\n",
        "thread1.start()\n",
        "thread2.start()\n",
        "\n",
        "thread1.join()\n",
        "thread2.join()\n",
        "\n",
        "\n",
        "print('Finished.')"
      ],
      "metadata": {
        "colab": {
          "base_uri": "https://localhost:8080/"
        },
        "id": "wtNUo4f1QIGQ",
        "outputId": "9ae6dbfc-d3d1-4552-82ab-788bf9385ae2"
      },
      "execution_count": null,
      "outputs": [
        {
          "output_type": "stream",
          "name": "stdout",
          "text": [
            "Starting thread A.\n",
            "Starting thread B.\n",
            "Thread A counting down: 5...\n",
            "Thread B counting down: 5...\n",
            "Thread A counting down: 4...\n",
            "Thread B counting down: 4...\n",
            "Thread A counting down: 3...\n",
            "Thread B counting down: 3...\n",
            "Thread A counting down: 2...\n",
            "Thread B counting down: 2...\n",
            "Thread A counting down: 1...\n",
            "Finished thread A.\n",
            "Thread B counting down: 1...\n",
            "Finished thread B.\n",
            "Finished.\n"
          ]
        }
      ]
    },
    {
      "cell_type": "markdown",
      "source": [
        " Полученный вывод сообщает нам, что наши два обратных отсчёта для имеющихся потоков исполнялись совместно; вместо того чтобы завершить наш самый первый поток обратного отсчёта и затем запустить второй имеющийся поток обратного отсчёта, наша программа исполнила эти два обратных отсчёта почти в одно и то же время. Без включения каких- то накладных расходов и различных объявлений, такая методика организации потоков позволяет почти удвоить улучшение скорости для нашей предыдущей программы."
      ],
      "metadata": {
        "id": "da--NpVBQgaP"
      }
    },
    {
      "cell_type": "markdown",
      "source": [
        " У нас есть возможность спроектировать некую структуру, в которой наш пул потоков не будет сохранять какую бы то ни было информацию относящуюся к задачам, которые ему следует исполнять, а вместо этого сами задачи хранятся в некоторой очереди (иными словами, создают очередь задач), и соответствующие элементы из этой очереди будут питать персональных участников имеющегося пула потоков. По мере того как выбранная задача завершается неким участником нашего пула потоков, если присутствующая очередь задач всё ещё содержит подлежащие обработке элементы, тогда следующий элемент из этой очереди будет отправлен в тот поток, который только что освободился."
      ],
      "metadata": {
        "id": "RaDcVU1SSgW1"
      }
    },
    {
      "cell_type": "markdown",
      "source": [
        "**В этом примере мы будем рассматривать задачу вывода всех положительных множителей некоторых элементов в заданном списке положительных целых.**"
      ],
      "metadata": {
        "id": "zLvDbGNJSllG"
      }
    },
    {
      "cell_type": "code",
      "source": [
        "import queue\n",
        "import threading\n",
        "import time\n",
        "\n",
        "\n",
        "class MyThread(threading.Thread):\n",
        "    def __init__(self, name):\n",
        "        threading.Thread.__init__(self)\n",
        "        self.name = name\n",
        "\n",
        "    def run(self):\n",
        "        print('Starting thread %s.' % self.name)\n",
        "        process_queue()\n",
        "        print('Exiting thread %s.' % self.name)\n",
        "\n",
        "def process_queue():\n",
        "    while True:\n",
        "        try:\n",
        "            x = my_queue.get(block=False)\n",
        "        except queue.Empty:\n",
        "            return\n",
        "        else:\n",
        "            print_factors(x)\n",
        "\n",
        "        time.sleep(1)\n",
        "\n",
        "def print_factors(x):\n",
        "    result_string = 'Positive factors of %i are: ' % x\n",
        "    for i in range(1, x + 1):\n",
        "        if x % i == 0:\n",
        "            result_string += str(i) + ' '\n",
        "    result_string += '\\n' + '_' * 20\n",
        "\n",
        "    print(result_string)\n",
        "\n",
        "\n",
        "# setting up variables\n",
        "input_ = [1, 10, 4, 3]\n",
        "\n",
        "# filling the queue\n",
        "my_queue = queue.Queue()\n",
        "for x in input_:\n",
        "    my_queue.put(x)\n",
        "\n",
        "\n",
        "# initializing and starting 3 threads\n",
        "thread1 = MyThread('A')\n",
        "thread2 = MyThread('B')\n",
        "thread3 = MyThread('C')\n",
        "\n",
        "thread1.start()\n",
        "thread2.start()\n",
        "thread3.start()\n",
        "\n",
        "# joining all 3 threads\n",
        "thread1.join()\n",
        "thread2.join()\n",
        "thread3.join()\n",
        "\n",
        "print('Done.')"
      ],
      "metadata": {
        "colab": {
          "base_uri": "https://localhost:8080/"
        },
        "id": "pi5xgr6BSgwe",
        "outputId": "ca48d031-8b30-4ed7-cf82-f009da3f863f"
      },
      "execution_count": null,
      "outputs": [
        {
          "output_type": "stream",
          "name": "stdout",
          "text": [
            "Starting thread A.\n",
            "Positive factors of 1 are: 1 \n",
            "____________________\n",
            "Starting thread B.Starting thread C.\n",
            "Positive factors of 10 are: 1 2 5 10 \n",
            "____________________\n",
            "\n",
            "Positive factors of 4 are: 1 2 4 \n",
            "____________________\n",
            "Positive factors of 3 are: 1 3 \n",
            "____________________\n",
            "Exiting thread C.\n",
            "Exiting thread B.\n",
            "Exiting thread A.\n",
            "Done.\n"
          ]
        }
      ]
    },
    {
      "cell_type": "markdown",
      "source": [
        "**Глава 2 - Одновременные web - запросы**"
      ],
      "metadata": {
        "id": "htNWHJ-R4U2n"
      }
    },
    {
      "cell_type": "markdown",
      "source": [
        "С точки зрения очереди в многопоточности каждый поток извлекает элементы из очереди, обрабатывает их и завершается, когда очередь опустеет. Это позволяет эффективно распределить работу между несколькими потоками и обрабатывать элементы из очереди параллельно.\n",
        "\n",
        "\n",
        "\n",
        "\n"
      ],
      "metadata": {
        "id": "pjmUa0YXTaLO"
      }
    },
    {
      "cell_type": "code",
      "source": [
        "import requests\n",
        "\n",
        "url = 'http://www.google.com'\n",
        "\n",
        "res = requests.get(url)\n",
        "\n",
        "print(res.status_code)\n",
        "print(res.headers)\n",
        "\n",
        "with open('google.html', 'w') as f:\n",
        "    f.write(res.text)\n",
        "\n",
        "print('Done.')"
      ],
      "metadata": {
        "id": "p9YCd9RmTbXP",
        "colab": {
          "base_uri": "https://localhost:8080/"
        },
        "outputId": "61a5b664-3608-477f-b913-059b97c0acb6"
      },
      "execution_count": null,
      "outputs": [
        {
          "output_type": "stream",
          "name": "stdout",
          "text": [
            "200\n",
            "{'Date': 'Thu, 18 Apr 2024 11:27:59 GMT', 'Expires': '-1', 'Cache-Control': 'private, max-age=0', 'Content-Type': 'text/html; charset=ISO-8859-1', 'Content-Security-Policy-Report-Only': \"object-src 'none';base-uri 'self';script-src 'nonce-MaHkXg-GlilvEfqCJTRn7Q' 'strict-dynamic' 'report-sample' 'unsafe-eval' 'unsafe-inline' https: http:;report-uri https://csp.withgoogle.com/csp/gws/other-hp\", 'P3P': 'CP=\"This is not a P3P policy! See g.co/p3phelp for more info.\"', 'Content-Encoding': 'gzip', 'Server': 'gws', 'Content-Length': '8586', 'X-XSS-Protection': '0', 'X-Frame-Options': 'SAMEORIGIN', 'Set-Cookie': '1P_JAR=2024-04-18-11; expires=Sat, 18-May-2024 11:27:59 GMT; path=/; domain=.google.com; Secure, AEC=AQTF6HwcR-Z1_KH09yHKe_LHYHalbuCF-4O14W_CGO_fI6HYq9J2Bq6thXA; expires=Tue, 15-Oct-2024 11:27:59 GMT; path=/; domain=.google.com; Secure; HttpOnly; SameSite=lax, NID=513=fbbvYA7Frvbmj_u7adyOQjI3Q3k4cSsH2AcucmUgzGrJULQoG3_9ec4bfX0sqtJzl9qs9pFg4uNJJzVRHqe8HvCCrmZmZEvrMydd5fGTDbJ9Q-L62FSh5-aYbUSbUfHKG9eR83i-z_rvQ9UlTSbw8iY-vQl3hKI9HTkoJVJOdGk; expires=Fri, 18-Oct-2024 11:27:59 GMT; path=/; domain=.google.com; HttpOnly'}\n",
            "Done.\n"
          ]
        }
      ]
    },
    {
      "cell_type": "markdown",
      "source": [
        "В этом примере мы применяем модуль requests для выгрузки кода обозначенной веб страницы, www.google.com. Соответствующий метод requests.get() отправляет некий метод запроса GET в url, а мы сохраняем полученный отклик в своей переменной res. После проверки значения состояния и заголовков отклика через их вывод на печать, мы создаём некий файл с названием google.html и записываем тот код HTML, который хранится в самом тексте отклика в данный файл."
      ],
      "metadata": {
        "id": "njvW-MWJ9u3A"
      }
    },
    {
      "cell_type": "code",
      "source": [
        "import requests\n",
        "\n",
        "def ping(url):\n",
        "    res = requests.get(url)\n",
        "    print(f'{url}: {res.text}')\n",
        "\n",
        "urls = [\n",
        "    'http://httpstat.us/200',\n",
        "    'http://httpstat.us/400',\n",
        "    'http://httpstat.us/404',\n",
        "    'http://httpstat.us/408',\n",
        "    'http://httpstat.us/500',\n",
        "    'http://httpstat.us/524'\n",
        "]\n",
        "\n",
        "for url in urls:\n",
        "    ping(url)\n",
        "\n",
        "print('Done.')"
      ],
      "metadata": {
        "colab": {
          "base_uri": "https://localhost:8080/"
        },
        "id": "6bncQyBi-NEP",
        "outputId": "d245e30f-dd12-49e5-a75a-35352172202c"
      },
      "execution_count": null,
      "outputs": [
        {
          "output_type": "stream",
          "name": "stdout",
          "text": [
            "http://httpstat.us/200: 200 OK\n",
            "http://httpstat.us/400: 400 Bad Request\n",
            "http://httpstat.us/404: 404 Not Found\n",
            "http://httpstat.us/408: 408 Request Timeout\n",
            "http://httpstat.us/500: 500 Internal Server Error\n",
            "http://httpstat.us/524: 524 A Timeout Occurred\n",
            "Done.\n"
          ]
        }
      ]
    },
    {
      "cell_type": "markdown",
      "source": [
        "В этой программе наша функция ping() получает некий URL и пытается выполнить запрос GETк этому сайту. Затем она выведет на печать полученное содержимое соответствующего отклика, возвращаемого вызывавшимся сервером. В нашей основной программе у нас имеется перечень различных кодов состояния, которые мы уже упоминали ранее, причём все они будут подвергнуты обходу и будут вызваны этой функцией ping()."
      ],
      "metadata": {
        "id": "ffnG5yupAmM4"
      }
    },
    {
      "cell_type": "markdown",
      "source": [
        "**Одновременные веб запросы**"
      ],
      "metadata": {
        "id": "EwtCQgkFAssX"
      }
    },
    {
      "cell_type": "markdown",
      "source": [
        "В контексте совместного программирования мы можем обнаружить, что определённый процесс выполнения какого- то запроса к веб серверу и получению соответствующего возвращаемого отклика независим от той же самой процедуры для какого- то другого веб сервера. Это говорит о том, что мы можем применить совместную обработку и параллелизм в своём приложении ping для ускорения нашего исполнения."
      ],
      "metadata": {
        "id": "ojTfHZ4yBHpX"
      }
    },
    {
      "cell_type": "code",
      "source": [
        "import threading\n",
        "import requests\n",
        "import time\n",
        "\n",
        "def ping(url):\n",
        "    res = requests.get(url)\n",
        "    print(f'{url}: {res.text}')\n",
        "\n",
        "urls = [\n",
        "    'http://httpstat.us/200',\n",
        "    'http://httpstat.us/400',\n",
        "    'http://httpstat.us/404',\n",
        "    'http://httpstat.us/408',\n",
        "    'http://httpstat.us/500',\n",
        "    'http://httpstat.us/524'\n",
        "]\n",
        "\n",
        "start = time.time()\n",
        "for url in urls:\n",
        "    ping(url)\n",
        "print(f'Sequential: {time.time() - start : .2f} seconds')\n",
        "\n",
        "print()\n",
        "\n",
        "start = time.time()\n",
        "threads = []\n",
        "for url in urls:\n",
        "    thread = threading.Thread(target=ping, args=(url,))\n",
        "    threads.append(thread)\n",
        "    thread.start()\n",
        "for thread in threads:\n",
        "    thread.join()\n",
        "\n",
        "print(f'Threading: {time.time() - start : .2f} seconds')"
      ],
      "metadata": {
        "colab": {
          "base_uri": "https://localhost:8080/"
        },
        "id": "bpXqHOCLAouP",
        "outputId": "203766cb-8b02-45a1-c7e6-02c4b3b2bdd7"
      },
      "execution_count": null,
      "outputs": [
        {
          "output_type": "stream",
          "name": "stdout",
          "text": [
            "http://httpstat.us/200: 200 OK\n",
            "http://httpstat.us/400: 400 Bad Request\n",
            "http://httpstat.us/404: 404 Not Found\n",
            "http://httpstat.us/408: 408 Request Timeout\n",
            "http://httpstat.us/500: 500 Internal Server Error\n",
            "http://httpstat.us/524: 524 A Timeout Occurred\n",
            "Sequential:  0.86 seconds\n",
            "\n",
            "http://httpstat.us/404: 404 Not Found\n",
            "http://httpstat.us/200: 200 OK\n",
            "http://httpstat.us/408: 408 Request Timeout\n",
            "http://httpstat.us/500: 500 Internal Server Error\n",
            "http://httpstat.us/524: 524 A Timeout Occurred\n",
            "http://httpstat.us/400: 400 Bad Request\n",
            "Threading:  0.13 seconds\n"
          ]
        }
      ]
    },
    {
      "cell_type": "code",
      "source": [],
      "metadata": {
        "id": "AKh-akKzpQAN"
      },
      "execution_count": null,
      "outputs": []
    }
  ]
}